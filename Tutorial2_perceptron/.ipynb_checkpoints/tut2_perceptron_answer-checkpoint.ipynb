{
 "cells": [
  {
   "cell_type": "markdown",
   "metadata": {},
   "source": [
    "# Linear Classification and Perceptron\n",
    "\n",
    "This exercise gives you an introduction on perceptron and linear classification (binary classification). \n",
    "\n",
    "**Instructions:**\n",
    "- You will be using Python 3.\n",
    "- Fill in `tut2_perceptron.ipynb`. After coding your function, run the cell right below it to check if your result is correct.\n",
    "\n",
    "**After this assignment you will:**\n",
    "- Be able to use \n",
    "\n",
    "Let's get started!"
   ]
  },
  {
   "cell_type": "markdown",
   "metadata": {},
   "source": [
    "## 1 - Linear Classification with Perceptron ##"
   ]
  },
  {
   "cell_type": "markdown",
   "metadata": {},
   "source": [
    "### 1.1 - Linear Classication"
   ]
  },
  {
   "cell_type": "markdown",
   "metadata": {},
   "source": [
    "Linear classification is a linear function \n",
    "\n",
    "$$\\begin{align*} & y = f(x) = {w}^{T}x + b \\end{align*}\\tag{1}$$\n",
    "\n",
    "where $w$ denotes the weight of the input instance, $x$ denotes the input variable, that separates instances of different classes. For now, we will focus on the **binary classification** in which the output $y$ can take on only two discrete values called **classes**, -1 and 1."
   ]
  },
  {
   "cell_type": "markdown",
   "metadata": {},
   "source": [
    "### 1.2 - Perceptron "
   ]
  },
  {
   "cell_type": "markdown",
   "metadata": {},
   "source": [
    "![linear classification](images/linear-classification.png)\n",
    "Perceptron is an algorithm for learning a binary classifier:\n",
    "\n",
    "$$\\begin{align*} & f(x) = \n",
    "    \\begin{cases}\n",
    "        1   & \\quad \\text{if } {w}^{T}x + b \\geq 0 \\\\\n",
    "        -1  & \\quad \\text{if } {w}^{T}x + b < 0\n",
    "      \\end{cases} \\end{align*}\\tag{2}$$"
   ]
  },
  {
   "cell_type": "markdown",
   "metadata": {},
   "source": [
    "For instance, if we are trying to build a spam classifier for email, then $x(i)$ may be some features of a piece of email, and $y$ may be 1 if it is a piece of spam mail, and -1 otherwise. -1 is also called the negative class, and 1 the positive class, and they are sometimes also denoted by the symbols “-” and “+”.\n",
    "\n",
    "From a gepmetric perspective, $w$ is the slope, which are also called **weights**. $b$ is the interceept of the linear function, also called the **bias**."
   ]
  },
  {
   "cell_type": "markdown",
   "metadata": {},
   "source": [
    "## 2 - Linear Separability"
   ]
  },
  {
   "cell_type": "markdown",
   "metadata": {},
   "source": [
    "The training instances are linearly separable if there exists a hyperplane that will separate the two classes."
   ]
  },
  {
   "cell_type": "markdown",
   "metadata": {},
   "source": [
    "**linearly separable example**"
   ]
  },
  {
   "cell_type": "code",
   "execution_count": null,
   "metadata": {},
   "outputs": [],
   "source": [
    "%matplotlib notebook\n",
    "import matplotlib\n",
    "import matplotlib.pyplot as plt\n",
    "import matplotlib.animation\n",
    "import numpy as np\n",
    "import time"
   ]
  },
  {
   "cell_type": "markdown",
   "metadata": {},
   "source": [
    "**not linearly separable**"
   ]
  },
  {
   "cell_type": "code",
   "execution_count": null,
   "metadata": {},
   "outputs": [],
   "source": []
  },
  {
   "cell_type": "markdown",
   "metadata": {},
   "source": [
    "### What to do in cases like these?"
   ]
  },
  {
   "cell_type": "markdown",
   "metadata": {},
   "source": [
    "## Conclusion"
   ]
  },
  {
   "cell_type": "code",
   "execution_count": null,
   "metadata": {},
   "outputs": [],
   "source": []
  }
 ],
 "metadata": {
  "kernelspec": {
   "display_name": "Python 3",
   "language": "python",
   "name": "python3"
  },
  "language_info": {
   "codemirror_mode": {
    "name": "ipython",
    "version": 3
   },
   "file_extension": ".py",
   "mimetype": "text/x-python",
   "name": "python",
   "nbconvert_exporter": "python",
   "pygments_lexer": "ipython3",
   "version": "3.5.2"
  }
 },
 "nbformat": 4,
 "nbformat_minor": 2
}
